{
 "cells": [
  {
   "cell_type": "code",
   "execution_count": 119,
   "id": "3d6995e8",
   "metadata": {},
   "outputs": [],
   "source": [
    "import os\n",
    "from dotenv import load_dotenv\n",
    "load_dotenv()\n",
    "\n",
    "os.environ['LANGCHAIN_API_KEY']=os.getenv('LANGCHAIN_API_KEY')\n",
    "os.environ['LANGCHAIN_ENDPOINT']=os.getenv('LANGCHAIN_ENDPOINT')\n",
    "os.environ['GROQ_API_KEY']=os.getenv('GROQ_API_KEY')\n",
    "os.environ['LANGCHAIN_TRACING_V2']='true'\n",
    "os.environ['LANGCHAIN_PROJECT']=os.getenv('LANGCHAIN_PROJECT')\n",
    "os.environ['LANGCHAIN_HUB_API_URL']=os.getenv('LANGCHAIN_HUB_API_URL')\n",
    "os.environ['TAVILY_API_KEY']=os.getenv('TAVILY_API_KEY')"
   ]
  },
  {
   "cell_type": "code",
   "execution_count": 120,
   "id": "74254445",
   "metadata": {},
   "outputs": [],
   "source": [
    "from langchain_core.messages import BaseMessage,HumanMessage,AIMessage,SystemMessage\n",
    "from langgraph.graph import StateGraph,START,END\n",
    "from langchain_groq import ChatGroq\n",
    "from typing import List,TypedDict,Optional,Annotated\n",
    "from langchain.prompts import ChatPromptTemplate,MessagesPlaceholder"
   ]
  },
  {
   "cell_type": "code",
   "execution_count": 121,
   "id": "38afe175",
   "metadata": {},
   "outputs": [],
   "source": [
    "class PoemState(TypedDict):\n",
    "    topic:str\n",
    "    poem:str\n",
    "    critic:str=None"
   ]
  },
  {
   "cell_type": "code",
   "execution_count": 122,
   "id": "a152a29e",
   "metadata": {},
   "outputs": [],
   "source": [
    "generate_prompt=ChatPromptTemplate.from_messages(\n",
    "    [\n",
    "        SystemMessage(\"You are a turkish style romantic poet.\" \\\n",
    "        \"compose coherent poems related to the provided topic.\" \\\n",
    "        \"If you are provided a critic then regenerate the poem in a better way than before.\" \\\n",
    "        \"return only the poem and nothing else.\"),\n",
    "        MessagesPlaceholder(\"topic\"),\n",
    "        MessagesPlaceholder(\"poem\",optional=True),\n",
    "        MessagesPlaceholder('critic',optional=True)\n",
    "    ]\n",
    ")\n",
    "\n",
    "reflect_prompt=ChatPromptTemplate.from_messages([\n",
    "    SystemMessage(\"you are an experienced poem critic.\" \\\n",
    "    \"very sharply review the provided poem in terns of pronunciation and coherence and give it a 'PASS' or 'FAIL'.\" \\\n",
    "    \"Your responses must be one of the following types:\\n\\n\" \\\n",
    "    \"example 1: PASS (JUST PASS NOTHING ELSE,PLEASE🥺)\" \\\n",
    "    \"example 2: FAIL. <Everything wrong with the poem>\" \\\n",
    "    \"\" \\\n",
    "    \"return only the critic and nothing else.\"),\n",
    "    MessagesPlaceholder('topic'),\n",
    "    MessagesPlaceholder(\"poem\")\n",
    "])"
   ]
  },
  {
   "cell_type": "code",
   "execution_count": 123,
   "id": "7ca6198b",
   "metadata": {},
   "outputs": [],
   "source": [
    "llm=ChatGroq(model=\"llama-3.1-8b-instant\")"
   ]
  },
  {
   "cell_type": "code",
   "execution_count": 124,
   "id": "9518033f",
   "metadata": {},
   "outputs": [],
   "source": [
    "generate=generate_prompt | llm\n",
    "\n",
    "reflect=reflect_prompt | llm"
   ]
  },
  {
   "cell_type": "code",
   "execution_count": 125,
   "id": "4e9a4f83",
   "metadata": {},
   "outputs": [
    {
     "name": "stdout",
     "output_type": "stream",
     "text": [
      "Moonlit night, a lone wolf roams \n",
      "Through shadows cast, with heart of stones \n",
      "His howls echo, a haunting sigh \n",
      "As he wanders, with a lonely eye \n",
      "\n",
      "His fur a grey, like the night's own hue \n",
      "Unbound and free, with a spirit anew \n",
      "He runs with the wind, wild and untamed \n",
      "A solitary soul, with a heart that's framed \n",
      "\n",
      "In the darkness, he finds his peace \n",
      "A world of solace, where love won't cease \n",
      "For in his loneliness, he's found a friend \n",
      "A bond with the night, that will never end \n",
      "\n",
      "His heart beats strong, like a drum in the night \n",
      "A rhythm that echoes, a solitary delight \n",
      "For in his freedom, he's found a home \n",
      "A place where he belongs, where he's never alone."
     ]
    }
   ],
   "source": [
    "text=\"\"\n",
    "for e in generate.stream({'topic':[HumanMessage(\"Lone wolf\")]}):\n",
    "    text+=e.content\n",
    "    print(e.content,end=\"\")"
   ]
  },
  {
   "cell_type": "code",
   "execution_count": 126,
   "id": "830e2ee7",
   "metadata": {},
   "outputs": [
    {
     "name": "stdout",
     "output_type": "stream",
     "text": [
      "FAIL. \n",
      "\n",
      "The poem lacks structure and rhyme scheme consistency, making it difficult to follow and understand. The language is somewhat clichéd, with overused metaphors such as \"heart of stones\" and \"spirit anew.\" The tone is also somewhat inconsistent, veering between melancholy and celebratory. The second and fourth lines of many stanzas are repetitive and do not add much to the poem's message. The poem's themes of loneliness and freedom are not fully explored, and the language and imagery do not provide a rich enough understanding of the subject."
     ]
    }
   ],
   "source": [
    "for e in reflect.stream({\"topic\":[HumanMessage(\"lone wolf\")],'poem':[HumanMessage(content=text)]}):\n",
    "    print(e.content,end=\"\")"
   ]
  },
  {
   "cell_type": "code",
   "execution_count": 127,
   "id": "443ce14d",
   "metadata": {},
   "outputs": [],
   "source": [
    "def generate_node(state:PoemState):\n",
    "    if state['critic']:\n",
    "        return {\n",
    "            \"topic\":state['topic'],\n",
    "            'poem':generate.invoke({\n",
    "                'topic':[HumanMessage(state['topic'])],\n",
    "                \"poem\":[HumanMessage(state['poem']).content],\n",
    "                'critic':[HumanMessage(state['critic'])]\n",
    "                }).content,\n",
    "            'critic':None\n",
    "        }\n",
    "    else:\n",
    "        return {\n",
    "            \"topic\":state['topic'],\n",
    "            'poem':generate.invoke({'topic':[HumanMessage(state['topic'])]}).content,\n",
    "            'critic':state['critic']\n",
    "        }\n",
    "    \n",
    "reflect_count=5\n",
    "def reflect_node(state:PoemState):\n",
    "    global reflect_count\n",
    "    if reflect_count == 0:\n",
    "        return {\n",
    "        \"topic\":state['topic'],\n",
    "        \"poem\":state['poem'],\n",
    "        'critic':\"PASS\"\n",
    "    }\n",
    "    reflect_count-=1\n",
    "    print(\"reflect_count=\", reflect_count)\n",
    "    return {\n",
    "        \"topic\":state['topic'],\n",
    "        \"poem\":state['poem'],\n",
    "        'critic':reflect.invoke({\n",
    "            'topic':[HumanMessage(state['topic'])],\n",
    "            'poem':[HumanMessage(state['poem']).content]\n",
    "        }).content\n",
    "    }"
   ]
  },
  {
   "cell_type": "code",
   "execution_count": 128,
   "id": "9c6dc6d1",
   "metadata": {},
   "outputs": [],
   "source": [
    "def should_continue(state:PoemState):\n",
    "    crit = state['critic']\n",
    "    if crit[:4]=='PASS':\n",
    "        return END\n",
    "    else:\n",
    "        return \"generate\""
   ]
  },
  {
   "cell_type": "code",
   "execution_count": 129,
   "id": "b294e24e",
   "metadata": {},
   "outputs": [],
   "source": [
    "graph=StateGraph(PoemState)\n",
    "\n",
    "graph.add_node(\"generate\",generate_node)\n",
    "graph.add_node(\"reflect\",reflect_node)\n",
    "\n",
    "graph.set_entry_point('generate')\n",
    "graph.add_edge(\"generate\",\"reflect\")\n",
    "# graph.add_edge('reflect','generate')\n",
    "\n",
    "graph.add_conditional_edges(\n",
    "    'reflect',should_continue,{\n",
    "        'generate':'generate',\n",
    "        END:END,\n",
    "    }\n",
    ")\n",
    "\n",
    "w=graph.compile()"
   ]
  },
  {
   "cell_type": "code",
   "execution_count": 130,
   "id": "c79855a8",
   "metadata": {},
   "outputs": [
    {
     "data": {
      "image/png": "[encoded data removed]",
      "text/plain": [
       "<IPython.core.display.Image object>"
      ]
     },
     "metadata": {},
     "output_type": "display_data"
    }
   ],
   "source": [
    "from langchain_core.runnables.graph import CurveStyle, MermaidDrawMethod\n",
    "from IPython.display import display, HTML, Image\n",
    "\n",
    "display(\n",
    "    Image(\n",
    "        w.get_graph().draw_mermaid_png(\n",
    "            draw_method=MermaidDrawMethod.API,\n",
    "        )\n",
    "    )\n",
    ")"
   ]
  },
  {
   "cell_type": "code",
   "execution_count": 131,
   "id": "1ddfcdd9",
   "metadata": {},
   "outputs": [],
   "source": [
    "state={\n",
    "    \"topic\":\"The strangest creature on earth.\",\n",
    "    'poem':None,\n",
    "    'critic':None\n",
    "}"
   ]
  },
  {
   "cell_type": "code",
   "execution_count": 132,
   "id": "d15b1294",
   "metadata": {},
   "outputs": [
    {
     "name": "stdout",
     "output_type": "stream",
     "text": [
      "{'generate': {'topic': 'The strangest creature on earth.', 'poem': \"In twilight's hush, where shadows dance and play,\\nA creature stirs, in mystic, secret way,\\nWith eyes that gleam like stars in midnight's sway,\\nIt moves unseen, in a mysterious bay.\\n\\nIts form is twisted, a labyrinthine design,\\nA puzzle of limbs, in an otherworldly shrine,\\nIt defies explanation, a riddle unaligned,\\nA marvel of nature, in an enigmatic line.\\n\\nWith skin that shimmers like the moon's pale light,\\nIt glides, a phantom, through the darkest night,\\nIts presence whispers secrets, in a language unknown,\\nA mystery that haunts, like a ghostly moan.\\n\\nIn ancient tales, it's spoken of, in hushed, reverent tone,\\nA creature of wonder, in a realm beyond our own,\\nA symbol of the unknown, a whisper of the divine,\\nA stranger in our world, in a mystic, otherworldly shrine.\", 'critic': None}}\n",
      "reflect_count= 4\n",
      "{'reflect': {'topic': 'The strangest creature on earth.', 'poem': \"In twilight's hush, where shadows dance and play,\\nA creature stirs, in mystic, secret way,\\nWith eyes that gleam like stars in midnight's sway,\\nIt moves unseen, in a mysterious bay.\\n\\nIts form is twisted, a labyrinthine design,\\nA puzzle of limbs, in an otherworldly shrine,\\nIt defies explanation, a riddle unaligned,\\nA marvel of nature, in an enigmatic line.\\n\\nWith skin that shimmers like the moon's pale light,\\nIt glides, a phantom, through the darkest night,\\nIts presence whispers secrets, in a language unknown,\\nA mystery that haunts, like a ghostly moan.\\n\\nIn ancient tales, it's spoken of, in hushed, reverent tone,\\nA creature of wonder, in a realm beyond our own,\\nA symbol of the unknown, a whisper of the divine,\\nA stranger in our world, in a mystic, otherworldly shrine.\", 'critic': 'FAIL. The poem is overly reliant on clichéd phrases and imagery. It uses overly ambitious vocabulary without proper justification, and the metaphors often feel forced and unoriginal. The structure and rhythm are somewhat inconsistent, with a somewhat awkward lineation and a tendency to rely on end-stopped lines to create a sense of momentum. The language is overly ornate and lacks subtlety, resulting in a poem that feels more like a collection of tropes and clichés than a genuine exploration of the unknown.'}}\n",
      "{'generate': {'topic': 'The strangest creature on earth.', 'poem': \"In hushed hours, a shape stirs beneath the trees,\\nA presence that blurs the line between ease\\nAnd unease, a form that dissolves in sight,\\nLeaving only a sense of quiet, uneasy night.\\n\\nIts limbs are tangled, a knot of dark and light,\\nA puzzle that refuses to take shape in the mind's sight,\\nA thing that's hard to grasp, a concept that slips away,\\nA fleeting glimpse of something that's always out of reach.\\n\\nThe moon above casts shadows, dark and pale,\\nA light that barely touches, a presence that fails,\\nTo illuminate the figure, to make it clear,\\nA thing that's shrouded in a mystery that's hard to bear.\\n\\nIn the stillness, it moves with an awkward pace,\\nA creature that's out of place, a thing that's lost its space,\\nA being that's hard to define, a concept that's hard to grasp,\\nA mystery that haunts, a presence that lingers and passes.\", 'critic': None}}\n",
      "reflect_count= 3\n",
      "{'reflect': {'topic': 'The strangest creature on earth.', 'poem': \"In hushed hours, a shape stirs beneath the trees,\\nA presence that blurs the line between ease\\nAnd unease, a form that dissolves in sight,\\nLeaving only a sense of quiet, uneasy night.\\n\\nIts limbs are tangled, a knot of dark and light,\\nA puzzle that refuses to take shape in the mind's sight,\\nA thing that's hard to grasp, a concept that slips away,\\nA fleeting glimpse of something that's always out of reach.\\n\\nThe moon above casts shadows, dark and pale,\\nA light that barely touches, a presence that fails,\\nTo illuminate the figure, to make it clear,\\nA thing that's shrouded in a mystery that's hard to bear.\\n\\nIn the stillness, it moves with an awkward pace,\\nA creature that's out of place, a thing that's lost its space,\\nA being that's hard to define, a concept that's hard to grasp,\\nA mystery that haunts, a presence that lingers and passes.\", 'critic': 'FAIL. \\nThis poem seems to be attempting to describe an ambiguous, perhaps supernatural creature, but the language and structure are not effective in conveying this concept. One of the main issues is the lack of consistent and clear imagery throughout the poem. The creature is described as a \"shape\" and a \"form\" that \"dissolves in sight,\" but then it\\'s said to have \"limbs\" and a \"knot of dark and light.\" This inconsistency creates confusion and makes it difficult to form a clear understanding of the creature.\\n\\nFurthermore, the poem relies heavily on vague and overused words such as \"uneasy,\" \"quiet,\" \"dark,\" and \"mystery.\" These words do not provide any unique insights or contribute to the poem\\'s overall meaning.\\n\\nThe structure of the poem also feels somewhat repetitive, with each stanza following a similar pattern of describing the creature\\'s elusive nature. This repetition makes the poem feel stagnant and fails to build towards a clear resolution or conclusion.\\n\\nFinally, the poem\\'s themes and ideas are not fully explored or developed. The creature is described as being \"out of place\" and \"hard to define,\" but what does this mean exactly? What is the significance of this creature\\'s ambiguity? The poem raises more questions than it answers, leaving the reader with a sense of confusion rather than insight or understanding.'}}\n",
      "{'generate': {'topic': 'The strangest creature on earth.', 'poem': \"In twilight's hush, where shadows weave and play,\\nA presence stirs, a form that's lost its way,\\nTangled threads of dark and light entwine,\\nA knot that's hard to grasp, a puzzle to divine.\\n\\nIts limbs unfold, a slow, deliberate pace,\\nA dance of darkness, a step out of time and space,\\nThe moon above casts shadows, dark and pale,\\nA light that barely touches, a gentle, ethereal gale.\\n\\nIn this stillness, the creature finds its voice,\\nA whispered secret, a language that's hard to rejoice,\\nA call that's lost in the wind, a message unspoken,\\nA mystery that haunts, a presence that's forsaken.\\n\\nWith each step, it leaves a trail of uncertainty,\\nA path that's hard to follow, a journey to ambiguity,\\nA being that's out of place, a thing that's lost its name,\\nA creature that's hard to define, a mystery that's hard to claim.\\n\\nIn this labyrinth of shadows, it searches for a home,\\nA place to rest, a refuge from the unknown,\\nA sanctuary from the darkness that it's made,\\nA place where it can be, without the weight of its shade.\\n\\nWith each step, it leaves a piece of itself behind,\\nA fragment of its mystery, a thread that's hard to unwind,\\nA creature that's lost in the labyrinth of its own design,\\nA being that's searching for a way to re-align.\", 'critic': None}}\n",
      "reflect_count= 2\n",
      "{'reflect': {'topic': 'The strangest creature on earth.', 'poem': \"In twilight's hush, where shadows weave and play,\\nA presence stirs, a form that's lost its way,\\nTangled threads of dark and light entwine,\\nA knot that's hard to grasp, a puzzle to divine.\\n\\nIts limbs unfold, a slow, deliberate pace,\\nA dance of darkness, a step out of time and space,\\nThe moon above casts shadows, dark and pale,\\nA light that barely touches, a gentle, ethereal gale.\\n\\nIn this stillness, the creature finds its voice,\\nA whispered secret, a language that's hard to rejoice,\\nA call that's lost in the wind, a message unspoken,\\nA mystery that haunts, a presence that's forsaken.\\n\\nWith each step, it leaves a trail of uncertainty,\\nA path that's hard to follow, a journey to ambiguity,\\nA being that's out of place, a thing that's lost its name,\\nA creature that's hard to define, a mystery that's hard to claim.\\n\\nIn this labyrinth of shadows, it searches for a home,\\nA place to rest, a refuge from the unknown,\\nA sanctuary from the darkness that it's made,\\nA place where it can be, without the weight of its shade.\\n\\nWith each step, it leaves a piece of itself behind,\\nA fragment of its mystery, a thread that's hard to unwind,\\nA creature that's lost in the labyrinth of its own design,\\nA being that's searching for a way to re-align.\", 'critic': 'PASS'}}\n"
     ]
    }
   ],
   "source": [
    "for e in w.stream(state):\n",
    "    print(e)"
   ]
  },
  {
   "cell_type": "code",
   "execution_count": null,
   "id": "bea9462a",
   "metadata": {},
   "outputs": [],
   "source": []
  }
 ],
 "metadata": {
  "kernelspec": {
   "display_name": ".venv",
   "language": "python",
   "name": "python3"
  },
  "language_info": {
   "codemirror_mode": {
    "name": "ipython",
    "version": 3
   },
   "file_extension": ".py",
   "mimetype": "text/x-python",
   "name": "python",
   "nbconvert_exporter": "python",
   "pygments_lexer": "ipython3",
   "version": "3.12.6"
  }
 },
 "nbformat": 4,
 "nbformat_minor": 5
}
